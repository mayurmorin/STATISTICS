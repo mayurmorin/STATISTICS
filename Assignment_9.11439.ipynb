{
 "cells": [
  {
   "cell_type": "markdown",
   "metadata": {},
   "source": [
    "#Task 1.1. You survey households in your area to find the average rent they are paying. Find the standard deviation from the following data:$1550, $1700, $900, $850, $1000, $950."
   ]
  },
  {
   "cell_type": "code",
   "execution_count": 1,
   "metadata": {},
   "outputs": [
    {
     "name": "stdout",
     "output_type": "stream",
     "text": [
      "The Average of Rent Paid Sample is 1158.3333333333333 \n",
      "The Standard Deviation of Rent Paid Sample is 367.9900360969936 \n",
      "The Variance of Rent Paid Sample is 135416.66666666666 \n",
      "\n",
      "\n",
      "The Average of Rent Paid Sample is 1158.3333333333333\n",
      "The Standard Deviation of Rent Paid Sample is 367.99003609699366\n",
      "The Variance of Rent Paid Sample is 135416.6666666667\n"
     ]
    }
   ],
   "source": [
    "import statistics as stat\n",
    "from math import sqrt  \n",
    "#Setp 1: Creating a list from given data, in this case rent paid:\n",
    "rent_paid_list = [1550, 1700, 900, 850, 1000,950] \n",
    "#Through Defined Functionals\n",
    "def searchMean(lst):\n",
    " return sum(lst)/len(lst)\n",
    "def searchVariance(lst):\n",
    " temp_mean = searchMean(lst)\n",
    " variance = sum((x - temp_mean)**2 for x in lst) / (len(lst)-1)\n",
    " return variance\n",
    "def searchStdDev(lst):\n",
    " return searchVariance(lst)**0.5\n",
    "#Step 2: To Find the average rent paid in the households which is the mean:\n",
    "print(\"The Average of Rent Paid Sample is % s \" % (stat.mean(rent_paid_list))) \n",
    "#Step 3: To Find the standard deviation of Rent Paid Sample data \n",
    "print(\"The Standard Deviation of Rent Paid Sample is % s \" % (stat.stdev(rent_paid_list))) \n",
    "#Step 4: To Find the variance of Rent Paid Sample data\n",
    "print(\"The Variance of Rent Paid Sample is % s \" % (stat.variance(rent_paid_list)))\n",
    "print(\"\\n\")\n",
    "#Step 5: To Find Mean, Standard Deviation from Defined functions\n",
    "print (\"The Average of Rent Paid Sample is \" + str(searchMean(rent_paid_list)))\n",
    "print(\"The Standard Deviation of Rent Paid Sample is \" + str(searchStdDev(rent_paid_list)))\n",
    "print (\"The Variance of Rent Paid Sample is \" + str(searchVariance(rent_paid_list)))\n"
   ]
  },
  {
   "cell_type": "markdown",
   "metadata": {},
   "source": [
    "Task 1.2. Find the variance for the following set of data representing trees in California (heights in\n",
    "feet):\n",
    "3, 21, 98, 203, 17, 9"
   ]
  },
  {
   "cell_type": "code",
   "execution_count": 2,
   "metadata": {},
   "outputs": [
    {
     "name": "stdout",
     "output_type": "stream",
     "text": [
      "Variance of the sample is 6219.9\n",
      "Variance of the sample is 6219.9\n"
     ]
    }
   ],
   "source": [
    "#Step 1: creating a simple data - set \n",
    "trees_height_ft = [3, 21, 98, 203, 17, 9] \n",
    "\n",
    "#define the function to calculate the mean\n",
    "def searchMean(lst):\n",
    " return sum(lst)/len(lst)\n",
    "\n",
    "#define the function to calculate the variance\n",
    "def searchVariance(lst):\n",
    " temp_mean = searchMean(lst)\n",
    " variance = sum((x - temp_mean)**2 for x in lst) / (len(lst)-1)\n",
    " return variance\n",
    "\n",
    "\n",
    "print(\"Variance of the sample is\",searchVariance(trees_height_ft) )\n",
    "\n",
    "#Step 2: Variance is approximately the squared result of what stdev is \n",
    "print(\"Variance of the sample is % s\" \n",
    "     %(stat.variance(trees_height_ft))) "
   ]
  },
  {
   "cell_type": "markdown",
   "metadata": {},
   "source": [
    "Task 1.3. In a class on 100 students, 80 students passed in all subjects, 10 failed in one subject, 7 failed\n",
    "in two subjects and 3 failed in three subjects. Find the probability distribution of the variable for\n",
    "number of subjects a student from the given class has failed in."
   ]
  },
  {
   "cell_type": "code",
   "execution_count": 3,
   "metadata": {},
   "outputs": [
    {
     "name": "stdout",
     "output_type": "stream",
     "text": [
      "Probability Distribution:\n",
      "\n",
      "   X  P(X)\n",
      "0  0  0.80\n",
      "1  1  0.10\n",
      "2  2  0.07\n",
      "3  3  0.03\n",
      "\n",
      "\n",
      "Probability Distribution:\n",
      "\n",
      "P(X=0) = 0.8\n",
      "P(X=1) = 0.1\n",
      "P(X=2) = 0.07\n",
      "P(X=3) = 0.03\n"
     ]
    }
   ],
   "source": [
    "import pandas as pd\n",
    "import numpy as np\n",
    "\n",
    "print(\"Probability Distribution:\\n\")\n",
    "data={'X': [0,1,2,3],'P(X)': [0.8,0.1,0.07,0.03]}\n",
    "df = pd.DataFrame.from_dict(data)\n",
    "print(df)\n",
    "\n",
    "print(\"\\n\")\n",
    "data = [80,10,7,3]\n",
    "Total = 100\n",
    "def printProbability(events, result):\n",
    "        probability = (events / result)\n",
    "        return round(probability,2)\n",
    "    \n",
    "print(\"Probability Distribution:\\n\")\n",
    "for PofX in data:\n",
    "    print(\"P(X={}) = {}\".format(data.index(PofX),printProbability(PofX,Total)))"
   ]
  },
  {
   "cell_type": "markdown",
   "metadata": {},
   "source": [
    "Task 2.1. A test is conducted which is consisting of 20 MCQs (multiple choices questions) with every\n",
    "MCQ having its four options out of which only one is correct. Determine the probability that a\n",
    "person undertaking that test has answered exactly 5 questions wrong.\n",
    "Find the probabilities of all the possible outcomes."
   ]
  },
  {
   "cell_type": "code",
   "execution_count": 4,
   "metadata": {},
   "outputs": [
    {
     "name": "stdout",
     "output_type": "stream",
     "text": [
      "The probability of answering exactly 5 questions wrongly is: 0.00000343\n"
     ]
    }
   ],
   "source": [
    "import math\n",
    "from decimal import Decimal\n",
    "\"\"\"\n",
    "Here n    =20, which is total number of MCQs\n",
    "     x    =5 , which is answered exactly 5 questions wrong.\n",
    "     n-x  =15\n",
    "     \n",
    "     Probability of wrong answer = 3/4 = P\n",
    "     Probability of correct answer = 1/4 = 1-P \n",
    "          \n",
    "     Binomial Probability Distribution\n",
    "     P(x) = n!/x! (n-x)! (P)x (1-P)n-x\n",
    "          = (20!/5! * 15!) (3/4)^5 (1/4)^15\n",
    "          = (20*19*18*17*16) / (5*4*3*2*1) * (3/5)^5 * (1/4)^15\n",
    "          = 0.00000343\n",
    "\n",
    "     Thus the required probability is 0.00000343 approximately.\n",
    "\"\"\"\n",
    "#define function to calculate the cobination of r elements from n elements\n",
    "def nCr(n,r):\n",
    "    f = math.factorial\n",
    "    return f(n) / (f(r) * f(n-r))\n",
    "\n",
    "# Defining a function Bin_prob() to find the probability using binomial distribution theorem taking p,q,n,x as arguments\n",
    "def Bin_prob(p,q,n,x):\n",
    "    return round(Decimal(nCr(n,x)*(p)**x*(q)**(n-x)),8)\n",
    "p = 3/4\n",
    "q = 1/4\n",
    "n = 20\n",
    "x = 5\n",
    "print(\"The probability of answering exactly 5 questions wrongly is:\",Bin_prob(p,q,n,x))"
   ]
  },
  {
   "cell_type": "markdown",
   "metadata": {},
   "source": [
    "Task 2.2. A die marked A to E is rolled 50 times. Find the probability of getting a “D” exactly 5 times.\n",
    "Find the probabilities of all the possible outcomes."
   ]
  },
  {
   "cell_type": "code",
   "execution_count": 5,
   "metadata": {},
   "outputs": [
    {
     "name": "stdout",
     "output_type": "stream",
     "text": [
      "The probability of getting a “D” exactly 5 times is: 0.02953120\n"
     ]
    }
   ],
   "source": [
    "import math\n",
    "from decimal import Decimal\n",
    "\"\"\"\n",
    "Here n    =50, which is total number of die rolled\n",
    "     x    =5 , which is getting a \"D\" exactly 5 times.\n",
    "     n-x  =45\n",
    "     \n",
    "     Probability of getting D exactly 5 times = 1/5 = P\n",
    "     Probability of not getting D exactly 5 times= 4/5 = 1-P \n",
    "          \n",
    "     Binomial Probability Distribution\n",
    "     P(x) = n!/x! (n-x)! (P)x (1-P)n-x\n",
    "          = (50!/5! * 45!) (1/5)^5 (4/5)^45\n",
    "          = (50*49*48*47*46) / (5*4*3*2*1) * (1/5)^5 * (4/5)^45\n",
    "          = 0.02953120\n",
    "\n",
    "     Thus the required probability is 0.000216 approximately.\n",
    "\"\"\"\n",
    "#define function to calculate the cobination of r elements from n elements\n",
    "def nCr(n,r):\n",
    "    f = math.factorial\n",
    "    return f(n) / (f(r) * f(n-r))\n",
    "\n",
    "# Defining a function Bin_prob() to find the probability using binomial distribution theorem taking p,q,n,x as arguments\n",
    "def Bin_prob(p,q,n,x):\n",
    "    return round(Decimal(nCr(n,x)*(p)**x*(q)**(n-x)),8)\n",
    "\n",
    "p = 1/5\n",
    "q = 4/5\n",
    "n = 50\n",
    "x = 5\n",
    "\n",
    "print(\"The probability of getting a “D” exactly 5 times is:\",Bin_prob(p,q,n,x))"
   ]
  },
  {
   "cell_type": "markdown",
   "metadata": {},
   "source": [
    "Task 2.3. Two balls are drawn at random in succession without replacement from an urn containing 4\n",
    "red balls and 6 black balls.\n",
    "\n",
    "Find the probabilities of all the possible outcomes."
   ]
  },
  {
   "cell_type": "markdown",
   "metadata": {},
   "source": [
    "\"\"\"\n",
    "Red Balls=4\n",
    "Black Balls=6\n",
    "\n",
    "Below mentioned are possible outcomes for without Replacement:\n",
    "\n",
    "\n",
    "Considering Probability of Only Red Ball:\n",
    "1. Probability of not getting a Red ball in the first draw    = (6/10)               = 0.600\n",
    "2. Probability of not getting a Red ball in the second draw   = (5/9)                = 0.556\n",
    "3. Probability of getting atleast one ball is Red ball        = 1 - (6/10)*(5/9)     = 0.667\n",
    "\n",
    "Considering Probability of Only Black Ball:\n",
    "1. Probability of not getting a Black ball in the first draw  = (4/10)               = 0.400\n",
    "2. Probability of not getting a Black ball in the second draw = (3/9)                = 0.333\n",
    "3. Probability of getting atleast one ball is Black ball      = 1 - (4/10)*(3/9)     = 0.867\n",
    "\n",
    "Considering Probability of Both Red and Black Balls:\n",
    "1. Probability of getting both Red balls                      = 4/10*3/9= 12/90      = 0.133\n",
    "2. Probability of getting both Black balls                    = 6/10*5/9= 30/90      = 0.333\n",
    "3. Probability of getting one of each Red and Black ball      = 4/10*6/9 + 6/10*4/9  = 0.533\n",
    "4. Probability of getting First Red and Second Black ball    = 4/10*6/9= 24/90      = 0.267\n",
    "5. Probability of getting First Black and Second Red         = 6/10*4/9= 24/90      = 0.267\n",
    "\n",
    "\"\"\""
   ]
  },
  {
   "cell_type": "code",
   "execution_count": null,
   "metadata": {},
   "outputs": [],
   "source": []
  }
 ],
 "metadata": {
  "kernelspec": {
   "display_name": "Python 3",
   "language": "python",
   "name": "python3"
  },
  "language_info": {
   "codemirror_mode": {
    "name": "ipython",
    "version": 3
   },
   "file_extension": ".py",
   "mimetype": "text/x-python",
   "name": "python",
   "nbconvert_exporter": "python",
   "pygments_lexer": "ipython3",
   "version": "3.6.5"
  }
 },
 "nbformat": 4,
 "nbformat_minor": 2
}
